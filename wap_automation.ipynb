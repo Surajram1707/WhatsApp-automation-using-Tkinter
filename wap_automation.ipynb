{
 "cells": [
  {
   "cell_type": "code",
   "execution_count": 1,
   "metadata": {},
   "outputs": [
    {
     "name": "stdout",
     "output_type": "stream",
     "text": [
      "Hello from the creator of pywhatkit, Ankit Raj Mahapatra.\n",
      "Kindly do report bugs if any\n",
      "What's new:\n",
      "1. Removed selenium dependent functions\n",
      "2. Added pywhatkit.text_to_handwriting() which will convert text to handwritten characters.\n",
      "3. Added pywhatkit.image_to_ascii_art() which will convert image to ascii art.\n"
     ]
    }
   ],
   "source": [
    "import pywhatkit"
   ]
  },
  {
   "cell_type": "code",
   "execution_count": null,
   "metadata": {},
   "outputs": [],
   "source": [
    "pywhatkit.sendwhatmsg(\"Mobilenumber\",\"Message\",hours,minutes)"
   ]
  },
  {
   "cell_type": "code",
   "execution_count": null,
   "metadata": {},
   "outputs": [],
   "source": []
  }
 ],
 "metadata": {
  "kernelspec": {
   "display_name": "Python 3",
   "language": "python",
   "name": "python3"
  },
  "language_info": {
   "codemirror_mode": {
    "name": "ipython",
    "version": 3
   },
   "file_extension": ".py",
   "mimetype": "text/x-python",
   "name": "python",
   "nbconvert_exporter": "python",
   "pygments_lexer": "ipython3",
   "version": "3.7.3"
  }
 },
 "nbformat": 4,
 "nbformat_minor": 2
}
